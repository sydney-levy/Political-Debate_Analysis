{
 "cells": [
  {
   "cell_type": "markdown",
   "metadata": {},
   "source": [
    "# Code to convert data into proper format for GPT-4o mini fine-tuning"
   ]
  },
  {
   "cell_type": "code",
   "execution_count": 8,
   "metadata": {},
   "outputs": [],
   "source": [
    "import pandas as pd\n",
    "import json\n",
    "from sklearn.model_selection import train_test_split"
   ]
  },
  {
   "cell_type": "code",
   "execution_count": 33,
   "metadata": {},
   "outputs": [],
   "source": [
    "df = pd.read_csv('presidential_clean.csv')"
   ]
  },
  {
   "cell_type": "code",
   "execution_count": 34,
   "metadata": {},
   "outputs": [],
   "source": [
    "filtered_df = df[\n",
    "    (df['dialogue'].str.split().str.len() < 10) & \n",
    "    (df['Party'].isin(['Republican', 'Democrat']))\n",
    "]"
   ]
  },
  {
   "cell_type": "code",
   "execution_count": 35,
   "metadata": {},
   "outputs": [],
   "source": [
    "df['word_count'] = df['dialogue'].str.split().str.len()"
   ]
  },
  {
   "cell_type": "code",
   "execution_count": 36,
   "metadata": {},
   "outputs": [],
   "source": [
    "df_filtered = df[df['word_count'] >= 10]\n"
   ]
  },
  {
   "cell_type": "code",
   "execution_count": 42,
   "metadata": {},
   "outputs": [],
   "source": [
    "republican_df = df_filtered[(df_filtered['Party'] == 'Republican') & (df_filtered['date'] > '2015-01-01')]\n",
    "democrat_df = df_filtered[(df_filtered['Party'] == 'Democrat') & (df_filtered['date'] > '2015-01-01')]"
   ]
  },
  {
   "cell_type": "code",
   "execution_count": 43,
   "metadata": {},
   "outputs": [],
   "source": [
    "republican_df.to_csv('2016_republican_data.csv', index=False)\n",
    "democrat_df.to_csv('2016_democrat_data.csv', index=False)"
   ]
  },
  {
   "cell_type": "code",
   "execution_count": 4,
   "metadata": {},
   "outputs": [
    {
     "data": {
      "text/html": [
       "<div>\n",
       "<style scoped>\n",
       "    .dataframe tbody tr th:only-of-type {\n",
       "        vertical-align: middle;\n",
       "    }\n",
       "\n",
       "    .dataframe tbody tr th {\n",
       "        vertical-align: top;\n",
       "    }\n",
       "\n",
       "    .dataframe thead th {\n",
       "        text-align: right;\n",
       "    }\n",
       "</style>\n",
       "<table border=\"1\" class=\"dataframe\">\n",
       "  <thead>\n",
       "    <tr style=\"text-align: right;\">\n",
       "      <th></th>\n",
       "      <th>actor</th>\n",
       "      <th>dialogue</th>\n",
       "      <th>date</th>\n",
       "      <th>Party</th>\n",
       "      <th>word_count</th>\n",
       "      <th>gpt_4_mini_question</th>\n",
       "    </tr>\n",
       "  </thead>\n",
       "  <tbody>\n",
       "    <tr>\n",
       "      <th>0</th>\n",
       "      <td>Ferraro</td>\n",
       "      <td>Well, let me first say that I wasnt born at th...</td>\n",
       "      <td>1984-10-11</td>\n",
       "      <td>Democrat</td>\n",
       "      <td>383</td>\n",
       "      <td>What experiences do you believe best qualify y...</td>\n",
       "    </tr>\n",
       "    <tr>\n",
       "      <th>1</th>\n",
       "      <td>Ferraro</td>\n",
       "      <td>I dont. Let me say that Im not a believer in p...</td>\n",
       "      <td>1984-10-11</td>\n",
       "      <td>Democrat</td>\n",
       "      <td>132</td>\n",
       "      <td>What is your perspective on the significance o...</td>\n",
       "    </tr>\n",
       "    <tr>\n",
       "      <th>2</th>\n",
       "      <td>Ferraro</td>\n",
       "      <td>I, I think what Im going to have to do is Im g...</td>\n",
       "      <td>1984-10-11</td>\n",
       "      <td>Democrat</td>\n",
       "      <td>161</td>\n",
       "      <td>What specific economic statistics or policies ...</td>\n",
       "    </tr>\n",
       "    <tr>\n",
       "      <th>3</th>\n",
       "      <td>Ferraro</td>\n",
       "      <td>With reference to the busing vote that I cast ...</td>\n",
       "      <td>1984-10-11</td>\n",
       "      <td>Democrat</td>\n",
       "      <td>395</td>\n",
       "      <td>What are your views on the role of federal gov...</td>\n",
       "    </tr>\n",
       "    <tr>\n",
       "      <th>4</th>\n",
       "      <td>Ferraro</td>\n",
       "      <td>I do not support the use of quotas. Both Mr. M...</td>\n",
       "      <td>1984-10-11</td>\n",
       "      <td>Democrat</td>\n",
       "      <td>130</td>\n",
       "      <td>What is your stance on affirmative action, and...</td>\n",
       "    </tr>\n",
       "  </tbody>\n",
       "</table>\n",
       "</div>"
      ],
      "text/plain": [
       "     actor                                           dialogue        date  \\\n",
       "0  Ferraro  Well, let me first say that I wasnt born at th...  1984-10-11   \n",
       "1  Ferraro  I dont. Let me say that Im not a believer in p...  1984-10-11   \n",
       "2  Ferraro  I, I think what Im going to have to do is Im g...  1984-10-11   \n",
       "3  Ferraro  With reference to the busing vote that I cast ...  1984-10-11   \n",
       "4  Ferraro  I do not support the use of quotas. Both Mr. M...  1984-10-11   \n",
       "\n",
       "      Party  word_count                                gpt_4_mini_question  \n",
       "0  Democrat         383  What experiences do you believe best qualify y...  \n",
       "1  Democrat         132  What is your perspective on the significance o...  \n",
       "2  Democrat         161  What specific economic statistics or policies ...  \n",
       "3  Democrat         395  What are your views on the role of federal gov...  \n",
       "4  Democrat         130  What is your stance on affirmative action, and...  "
      ]
     },
     "execution_count": 4,
     "metadata": {},
     "output_type": "execute_result"
    }
   ],
   "source": [
    "dem_1976 = pd.read_csv('processed_data/dem_1976_questions_clean.csv').drop(columns = ['Unnamed: 0'])\n",
    "dem_1976.head()"
   ]
  },
  {
   "cell_type": "code",
   "execution_count": 9,
   "metadata": {},
   "outputs": [],
   "source": [
    "files = [\n",
    "    (\"processed_data/dem_1976_questions_clean.csv\", \"dem_1976_train.jsonl\", \"dem_1976_val.jsonl\"),\n",
    "    (\"processed_data/rep_1976_questions_clean.csv\", \"rep_1976_train.jsonl\", \"rep_1976_val.jsonl\"),\n",
    "    (\"processed_data/dem_2016_questions_clean.csv\", \"dem_2016_train.jsonl\", \"dem_2016_val.jsonl\"),\n",
    "    (\"processed_data/rep_2016_questions_clean.csv\", \"rep_2016_train.jsonl\", \"rep_2016_val.jsonl\"),\n",
    "]\n"
   ]
  },
  {
   "cell_type": "code",
   "execution_count": 10,
   "metadata": {},
   "outputs": [],
   "source": [
    "def process_csv_to_jsonl_with_split(input_file, train_file, val_file):\n",
    "    df = pd.read_csv(input_file)\n",
    "    \n",
    "    # split into training and validation \n",
    "    train_df, val_df = train_test_split(df, test_size=0.2, random_state=42)\n",
    "    \n",
    "    def write_jsonl(df, output_file):\n",
    "        with open(output_file, \"w\") as f:\n",
    "            for _, row in df.iterrows():\n",
    "                jsonl_entry = {\n",
    "                    \"messages\": [\n",
    "                        {\"role\": \"system\", \"content\": \"You are a chatbot that is a presidential candidate in a debate.\"},\n",
    "                        {\"role\": \"user\", \"content\": row['gpt_4_mini_question']},\n",
    "                        {\"role\": \"assistant\", \"content\": row['dialogue']}\n",
    "                    ]\n",
    "                }\n",
    "                f.write(json.dumps(jsonl_entry) + \"\\n\")\n",
    "    \n",
    "    write_jsonl(train_df, train_file)\n",
    "    write_jsonl(val_df, val_file)\n",
    "    \n",
    "    print(f\"Processed {input_file} -> {train_file} (train) and {val_file} (validation)\")"
   ]
  },
  {
   "cell_type": "code",
   "execution_count": 11,
   "metadata": {},
   "outputs": [
    {
     "name": "stdout",
     "output_type": "stream",
     "text": [
      "Processed processed_data/dem_1976_questions_clean.csv -> dem_1976_train.jsonl (train) and dem_1976_val.jsonl (validation)\n",
      "Processed processed_data/rep_1976_questions_clean.csv -> rep_1976_train.jsonl (train) and rep_1976_val.jsonl (validation)\n",
      "Processed processed_data/dem_2016_questions_clean.csv -> dem_2016_train.jsonl (train) and dem_2016_val.jsonl (validation)\n",
      "Processed processed_data/rep_2016_questions_clean.csv -> rep_2016_train.jsonl (train) and rep_2016_val.jsonl (validation)\n"
     ]
    }
   ],
   "source": [
    "for input_file, train_file, val_file in files:\n",
    "    process_csv_to_jsonl_with_split(input_file, train_file, val_file)\n"
   ]
  }
 ],
 "metadata": {
  "kernelspec": {
   "display_name": "Python 3",
   "language": "python",
   "name": "python3"
  },
  "language_info": {
   "codemirror_mode": {
    "name": "ipython",
    "version": 3
   },
   "file_extension": ".py",
   "mimetype": "text/x-python",
   "name": "python",
   "nbconvert_exporter": "python",
   "pygments_lexer": "ipython3",
   "version": "3.11.7"
  }
 },
 "nbformat": 4,
 "nbformat_minor": 2
}
